{
 "cells": [
  {
   "cell_type": "markdown",
   "metadata": {},
   "source": [
    "# Predicting Off-Topic Questions on StackOverflow\n",
    "\n",
    "## Motivation\n",
    "        \n",
    "On StackOverflow, users post questions about programming problems they’ve encountered while trying to solve other problems such as this one. StackOverflow has particular rules about what is a valid question to ask, usually requiring that they be **on topic, detailed, and not a duplicate of another question.** There’s a process for closing questions that violate these rules, however it requires manual intervention!\n",
    "\n",
    "Let’s say that hypothetically their product team has come to you and wants to know: **_can they tell users that their post is likely to be closed for off-topic before they even post it?_**\n",
    "\n",
    "## Dataset\n",
    "-  50K randomly sampled posts _that have been closed as off-topic_ (indicated by 1 in the label columns)\n",
    "-  50k randomly sampled posts _that haven’t been closed and have an accepted answer_ (indicated by 0 in the label column).\n",
    "-  **Notes:** \n",
    "    * Balanced dataset. \n",
    "    * 'Off-Topic' is the positive class.\n",
    "\n",
    "Dataset in csv format (utf-8 encoded) can be found [here](https://s3.amazonaws.com/techblog-static/interview_dataset.csv) (~215MB) and there are five columns:\n",
    "\n",
    "   1. **Title**\n",
    "        1. This is the title of the post that a user has submitted\n",
    "   2. **Body**\n",
    "        1. This is the body of the post that the user submitted\n",
    "   3. **label**\n",
    "        1. Either 0 or 1 to indicate acceptable versus off-topic posts respectively\n",
    "   4. **Title_processed**\n",
    "        1. see below\n",
    "   5. **Body_processed**\n",
    "        1. see below\n",
    "\n",
    "To save you some time, we’ve also run the post Body and Title through a text normalization pipeline. These are in columns Body_processed and Title_processed respectively -- however you are free to ignore them and write your own text processing pipeline if you think it’s worthwhile!\n",
    "\n",
    "## Actual Problem\n",
    "This problem is fundamentally a predictive analytics problem -- **_investigate and develop an algorithm that is able to classify whether or not a given post is going to be closed as off-topic, using solely the provided Body and Title_**. While we’re not going to require that you develop a machine learning approach to this problem, we’ll suggest that it’s going to be a much easier route that trying to develop some hard-coded heuristics."
   ]
  },
  {
   "cell_type": "code",
   "execution_count": 79,
   "metadata": {},
   "outputs": [],
   "source": [
    "from numpy import array\n",
    "import numpy as np\n",
    "import pandas as pd\n",
    "import matplotlib.pyplot as plt\n",
    "from os import path\n",
    "%matplotlib inline\n",
    "from keras.preprocessing.text import one_hot\n",
    "from keras.preprocessing.text import Tokenizer\n",
    "from keras.preprocessing.sequence import pad_sequences\n",
    "from keras.models import Sequential\n",
    "from keras.layers import Dense, Flatten\n",
    "from keras.layers import SimpleRNN\n",
    "from keras.layers import LSTM\n",
    "from keras.layers import Dropout\n",
    "from keras.layers.embeddings import Embedding"
   ]
  },
  {
   "cell_type": "markdown",
   "metadata": {},
   "source": [
    "## 1. Munge and explore data\n",
    "#### Let's import and examine our data"
   ]
  },
  {
   "cell_type": "code",
   "execution_count": 80,
   "metadata": {},
   "outputs": [
    {
     "name": "stdout",
     "output_type": "stream",
     "text": [
      "Shape of dataframe: (100000, 6)\n",
      "There are 100000 rows.\n",
      "There are 6 columns.\n"
     ]
    },
    {
     "data": {
      "text/html": [
       "<div>\n",
       "<style scoped>\n",
       "    .dataframe tbody tr th:only-of-type {\n",
       "        vertical-align: middle;\n",
       "    }\n",
       "\n",
       "    .dataframe tbody tr th {\n",
       "        vertical-align: top;\n",
       "    }\n",
       "\n",
       "    .dataframe thead th {\n",
       "        text-align: right;\n",
       "    }\n",
       "</style>\n",
       "<table border=\"1\" class=\"dataframe\">\n",
       "  <thead>\n",
       "    <tr style=\"text-align: right;\">\n",
       "      <th></th>\n",
       "      <th>Unnamed: 0</th>\n",
       "      <th>Body</th>\n",
       "      <th>Title</th>\n",
       "      <th>label</th>\n",
       "      <th>Body_processed</th>\n",
       "      <th>Title_processed</th>\n",
       "    </tr>\n",
       "  </thead>\n",
       "  <tbody>\n",
       "    <tr>\n",
       "      <th>0</th>\n",
       "      <td>33226</td>\n",
       "      <td>&lt;p&gt;Hi I'm new to &lt;code&gt;Ruby on Rails&lt;/code&gt;. I...</td>\n",
       "      <td>RUBY: most common number for Users</td>\n",
       "      <td>1</td>\n",
       "      <td>hi i'm new to ruby on rails . i created users ...</td>\n",
       "      <td>ruby : most common number for users</td>\n",
       "    </tr>\n",
       "    <tr>\n",
       "      <th>1</th>\n",
       "      <td>64804</td>\n",
       "      <td>&lt;p&gt;I know that StringBuffer class is synchroni...</td>\n",
       "      <td>What exactly does it mean when they say that S...</td>\n",
       "      <td>0</td>\n",
       "      <td>i know that stringbuffer class is synchronized...</td>\n",
       "      <td>what exactly does it mean when they say that s...</td>\n",
       "    </tr>\n",
       "    <tr>\n",
       "      <th>2</th>\n",
       "      <td>39763</td>\n",
       "      <td>&lt;p&gt;I have a search engine on PHP that have ind...</td>\n",
       "      <td>Scan a webpage and get the video embed url only</td>\n",
       "      <td>1</td>\n",
       "      <td>i have a search engine on php that have indexe...</td>\n",
       "      <td>scan a webpage and get the video embed url only</td>\n",
       "    </tr>\n",
       "    <tr>\n",
       "      <th>3</th>\n",
       "      <td>51270</td>\n",
       "      <td>&lt;p&gt;Is there any way to get ICY metadata from s...</td>\n",
       "      <td>ICY metadata support with ffmpeg</td>\n",
       "      <td>0</td>\n",
       "      <td>is there any way to get icy metadata from shou...</td>\n",
       "      <td>icy metadata support with ffmpeg</td>\n",
       "    </tr>\n",
       "    <tr>\n",
       "      <th>4</th>\n",
       "      <td>9698</td>\n",
       "      <td>&lt;p&gt;For my website I want to have divs out of t...</td>\n",
       "      <td>Use jQuery or Javascript to move elements into...</td>\n",
       "      <td>1</td>\n",
       "      <td>for my website i want to have divs out of the ...</td>\n",
       "      <td>use jquery or javascript to move elements into...</td>\n",
       "    </tr>\n",
       "    <tr>\n",
       "      <th>5</th>\n",
       "      <td>5948</td>\n",
       "      <td>&lt;p&gt;I'm looking for a dead simple Java Library ...</td>\n",
       "      <td>Java SFTP Transfer Library</td>\n",
       "      <td>1</td>\n",
       "      <td>i'm looking for a dead simple java library to ...</td>\n",
       "      <td>java sftp transfer library</td>\n",
       "    </tr>\n",
       "    <tr>\n",
       "      <th>6</th>\n",
       "      <td>27955</td>\n",
       "      <td>&lt;p&gt;Having two MySql databases with same struct...</td>\n",
       "      <td>How to Merge two Mysql Databases with same str...</td>\n",
       "      <td>1</td>\n",
       "      <td>having two mysql databases with same structure...</td>\n",
       "      <td>how to merge two mysql databases with same str...</td>\n",
       "    </tr>\n",
       "    <tr>\n",
       "      <th>7</th>\n",
       "      <td>55001</td>\n",
       "      <td>&lt;p&gt;Hi I have 3 soap requests. \\nSay.\\nReq1 \\nR...</td>\n",
       "      <td>How can I pipeline multiple soap requests usin...</td>\n",
       "      <td>0</td>\n",
       "      <td>hi i have 3 soap requests . say . req1 req2 re...</td>\n",
       "      <td>how can i pipeline multiple soap requests usin...</td>\n",
       "    </tr>\n",
       "    <tr>\n",
       "      <th>8</th>\n",
       "      <td>50875</td>\n",
       "      <td>&lt;p&gt;Consider the following entity-relationship ...</td>\n",
       "      <td>Mapping many-to-many relationship with attribu...</td>\n",
       "      <td>0</td>\n",
       "      <td>consider the following entity - relationship d...</td>\n",
       "      <td>mapping many - to - many relationship with att...</td>\n",
       "    </tr>\n",
       "    <tr>\n",
       "      <th>9</th>\n",
       "      <td>47755</td>\n",
       "      <td>&lt;p&gt;I tried to make a program to get the amount...</td>\n",
       "      <td>C++ do while loop</td>\n",
       "      <td>1</td>\n",
       "      <td>i tried to make a program to get the amount af...</td>\n",
       "      <td>c ++ do while loop</td>\n",
       "    </tr>\n",
       "  </tbody>\n",
       "</table>\n",
       "</div>"
      ],
      "text/plain": [
       "   Unnamed: 0                                               Body  \\\n",
       "0       33226  <p>Hi I'm new to <code>Ruby on Rails</code>. I...   \n",
       "1       64804  <p>I know that StringBuffer class is synchroni...   \n",
       "2       39763  <p>I have a search engine on PHP that have ind...   \n",
       "3       51270  <p>Is there any way to get ICY metadata from s...   \n",
       "4        9698  <p>For my website I want to have divs out of t...   \n",
       "5        5948  <p>I'm looking for a dead simple Java Library ...   \n",
       "6       27955  <p>Having two MySql databases with same struct...   \n",
       "7       55001  <p>Hi I have 3 soap requests. \\nSay.\\nReq1 \\nR...   \n",
       "8       50875  <p>Consider the following entity-relationship ...   \n",
       "9       47755  <p>I tried to make a program to get the amount...   \n",
       "\n",
       "                                               Title  label  \\\n",
       "0                 RUBY: most common number for Users      1   \n",
       "1  What exactly does it mean when they say that S...      0   \n",
       "2    Scan a webpage and get the video embed url only      1   \n",
       "3                   ICY metadata support with ffmpeg      0   \n",
       "4  Use jQuery or Javascript to move elements into...      1   \n",
       "5                         Java SFTP Transfer Library      1   \n",
       "6  How to Merge two Mysql Databases with same str...      1   \n",
       "7  How can I pipeline multiple soap requests usin...      0   \n",
       "8  Mapping many-to-many relationship with attribu...      0   \n",
       "9                                  C++ do while loop      1   \n",
       "\n",
       "                                      Body_processed  \\\n",
       "0  hi i'm new to ruby on rails . i created users ...   \n",
       "1  i know that stringbuffer class is synchronized...   \n",
       "2  i have a search engine on php that have indexe...   \n",
       "3  is there any way to get icy metadata from shou...   \n",
       "4  for my website i want to have divs out of the ...   \n",
       "5  i'm looking for a dead simple java library to ...   \n",
       "6  having two mysql databases with same structure...   \n",
       "7  hi i have 3 soap requests . say . req1 req2 re...   \n",
       "8  consider the following entity - relationship d...   \n",
       "9  i tried to make a program to get the amount af...   \n",
       "\n",
       "                                     Title_processed  \n",
       "0                ruby : most common number for users  \n",
       "1  what exactly does it mean when they say that s...  \n",
       "2    scan a webpage and get the video embed url only  \n",
       "3                   icy metadata support with ffmpeg  \n",
       "4  use jquery or javascript to move elements into...  \n",
       "5                         java sftp transfer library  \n",
       "6  how to merge two mysql databases with same str...  \n",
       "7  how can i pipeline multiple soap requests usin...  \n",
       "8  mapping many - to - many relationship with att...  \n",
       "9                                 c ++ do while loop  "
      ]
     },
     "execution_count": 80,
     "metadata": {},
     "output_type": "execute_result"
    }
   ],
   "source": [
    "df = pd.read_csv(\"../Downloads/interview_dataset.csv\")\n",
    "\n",
    "print(\"Shape of dataframe: \" + str(df.shape))\n",
    "print(\"There are \" + str(df.shape[0]) + \" rows.\")\n",
    "print(\"There are \" + str(df.shape[1]) + \" columns.\")\n",
    "df.head(10)"
   ]
  },
  {
   "cell_type": "markdown",
   "metadata": {},
   "source": [
    "Column 0 is titled 'Unnamed: 0' by default from the import\n",
    "<br>\n",
    "Let's see if it's a unique number. If so, let's make it a unique ID for every entry"
   ]
  },
  {
   "cell_type": "code",
   "execution_count": 81,
   "metadata": {},
   "outputs": [
    {
     "data": {
      "text/plain": [
       "100000"
      ]
     },
     "execution_count": 81,
     "metadata": {},
     "output_type": "execute_result"
    }
   ],
   "source": [
    "df['Unnamed: 0'].nunique()"
   ]
  },
  {
   "cell_type": "markdown",
   "metadata": {},
   "source": [
    "Ok, it's unique. Let's rename it to 'id' and we can possibly use it in our analysis"
   ]
  },
  {
   "cell_type": "code",
   "execution_count": 82,
   "metadata": {},
   "outputs": [
    {
     "data": {
      "text/plain": [
       "Index(['id', 'Body', 'Title', 'label', 'Body_processed', 'Title_processed'], dtype='object')"
      ]
     },
     "execution_count": 82,
     "metadata": {},
     "output_type": "execute_result"
    }
   ],
   "source": [
    "# rename column\n",
    "df.columns = ['id' if x=='Unnamed: 0' else x for x in df.columns]\n",
    "\n",
    "# get column names to confrim.\n",
    "df.dtypes.index"
   ]
  },
  {
   "cell_type": "markdown",
   "metadata": {},
   "source": [
    "##### Check for any NaN's or duplicates\n",
    "Remove if desired"
   ]
  },
  {
   "cell_type": "code",
   "execution_count": 83,
   "metadata": {},
   "outputs": [
    {
     "data": {
      "text/plain": [
       "2"
      ]
     },
     "execution_count": 83,
     "metadata": {},
     "output_type": "execute_result"
    }
   ],
   "source": [
    "# find NaN's\n",
    "\n",
    "df.isnull().sum().sum()\n",
    "\n",
    "# 2 rows with NaN values. Pretty good. Let's see what these 2 look like."
   ]
  },
  {
   "cell_type": "code",
   "execution_count": 84,
   "metadata": {},
   "outputs": [
    {
     "name": "stdout",
     "output_type": "stream",
     "text": [
      "(2, 6)\n"
     ]
    },
    {
     "data": {
      "text/html": [
       "<div>\n",
       "<style scoped>\n",
       "    .dataframe tbody tr th:only-of-type {\n",
       "        vertical-align: middle;\n",
       "    }\n",
       "\n",
       "    .dataframe tbody tr th {\n",
       "        vertical-align: top;\n",
       "    }\n",
       "\n",
       "    .dataframe thead th {\n",
       "        text-align: right;\n",
       "    }\n",
       "</style>\n",
       "<table border=\"1\" class=\"dataframe\">\n",
       "  <thead>\n",
       "    <tr style=\"text-align: right;\">\n",
       "      <th></th>\n",
       "      <th>id</th>\n",
       "      <th>Body</th>\n",
       "      <th>Title</th>\n",
       "      <th>label</th>\n",
       "      <th>Body_processed</th>\n",
       "      <th>Title_processed</th>\n",
       "    </tr>\n",
       "  </thead>\n",
       "  <tbody>\n",
       "    <tr>\n",
       "      <th>26633</th>\n",
       "      <td>74726</td>\n",
       "      <td>&lt;p&gt;script async not working:&lt;/p&gt;\\n\\n&lt;pre&gt;&lt;code...</td>\n",
       "      <td>&lt;script async&gt; not working in rails</td>\n",
       "      <td>0</td>\n",
       "      <td>script async not working : &lt; h1 &gt; welcome # in...</td>\n",
       "      <td>NaN</td>\n",
       "    </tr>\n",
       "    <tr>\n",
       "      <th>90392</th>\n",
       "      <td>65968</td>\n",
       "      <td>&lt;p&gt;In my JSF+Spring project i tried to add for...</td>\n",
       "      <td>&lt;rich:popupPanel buttons not working in JSF Pr...</td>\n",
       "      <td>0</td>\n",
       "      <td>in my jsf + spring project i tried to add form...</td>\n",
       "      <td>NaN</td>\n",
       "    </tr>\n",
       "  </tbody>\n",
       "</table>\n",
       "</div>"
      ],
      "text/plain": [
       "          id                                               Body  \\\n",
       "26633  74726  <p>script async not working:</p>\\n\\n<pre><code...   \n",
       "90392  65968  <p>In my JSF+Spring project i tried to add for...   \n",
       "\n",
       "                                                   Title  label  \\\n",
       "26633                <script async> not working in rails      0   \n",
       "90392  <rich:popupPanel buttons not working in JSF Pr...      0   \n",
       "\n",
       "                                          Body_processed Title_processed  \n",
       "26633  script async not working : < h1 > welcome # in...             NaN  \n",
       "90392  in my jsf + spring project i tried to add form...             NaN  "
      ]
     },
     "execution_count": 84,
     "metadata": {},
     "output_type": "execute_result"
    }
   ],
   "source": [
    "# check what Nan's look like. Just to pass they eye test.\n",
    "\n",
    "df2 = df[df.isnull().any(axis=1)]\n",
    "print(df2.shape)\n",
    "df2.head()\n",
    "\n",
    "# Let's just remove these 2."
   ]
  },
  {
   "cell_type": "code",
   "execution_count": 85,
   "metadata": {},
   "outputs": [
    {
     "data": {
      "text/html": [
       "<div>\n",
       "<style scoped>\n",
       "    .dataframe tbody tr th:only-of-type {\n",
       "        vertical-align: middle;\n",
       "    }\n",
       "\n",
       "    .dataframe tbody tr th {\n",
       "        vertical-align: top;\n",
       "    }\n",
       "\n",
       "    .dataframe thead th {\n",
       "        text-align: right;\n",
       "    }\n",
       "</style>\n",
       "<table border=\"1\" class=\"dataframe\">\n",
       "  <thead>\n",
       "    <tr style=\"text-align: right;\">\n",
       "      <th></th>\n",
       "      <th>id</th>\n",
       "      <th>Body</th>\n",
       "      <th>Title</th>\n",
       "      <th>label</th>\n",
       "      <th>Body_processed</th>\n",
       "      <th>Title_processed</th>\n",
       "    </tr>\n",
       "  </thead>\n",
       "  <tbody>\n",
       "    <tr>\n",
       "      <th>0</th>\n",
       "      <td>33226</td>\n",
       "      <td>&lt;p&gt;Hi I'm new to &lt;code&gt;Ruby on Rails&lt;/code&gt;. I...</td>\n",
       "      <td>RUBY: most common number for Users</td>\n",
       "      <td>1</td>\n",
       "      <td>hi i'm new to ruby on rails . i created users ...</td>\n",
       "      <td>ruby : most common number for users</td>\n",
       "    </tr>\n",
       "    <tr>\n",
       "      <th>1</th>\n",
       "      <td>64804</td>\n",
       "      <td>&lt;p&gt;I know that StringBuffer class is synchroni...</td>\n",
       "      <td>What exactly does it mean when they say that S...</td>\n",
       "      <td>0</td>\n",
       "      <td>i know that stringbuffer class is synchronized...</td>\n",
       "      <td>what exactly does it mean when they say that s...</td>\n",
       "    </tr>\n",
       "    <tr>\n",
       "      <th>2</th>\n",
       "      <td>39763</td>\n",
       "      <td>&lt;p&gt;I have a search engine on PHP that have ind...</td>\n",
       "      <td>Scan a webpage and get the video embed url only</td>\n",
       "      <td>1</td>\n",
       "      <td>i have a search engine on php that have indexe...</td>\n",
       "      <td>scan a webpage and get the video embed url only</td>\n",
       "    </tr>\n",
       "    <tr>\n",
       "      <th>3</th>\n",
       "      <td>51270</td>\n",
       "      <td>&lt;p&gt;Is there any way to get ICY metadata from s...</td>\n",
       "      <td>ICY metadata support with ffmpeg</td>\n",
       "      <td>0</td>\n",
       "      <td>is there any way to get icy metadata from shou...</td>\n",
       "      <td>icy metadata support with ffmpeg</td>\n",
       "    </tr>\n",
       "    <tr>\n",
       "      <th>4</th>\n",
       "      <td>9698</td>\n",
       "      <td>&lt;p&gt;For my website I want to have divs out of t...</td>\n",
       "      <td>Use jQuery or Javascript to move elements into...</td>\n",
       "      <td>1</td>\n",
       "      <td>for my website i want to have divs out of the ...</td>\n",
       "      <td>use jquery or javascript to move elements into...</td>\n",
       "    </tr>\n",
       "    <tr>\n",
       "      <th>5</th>\n",
       "      <td>5948</td>\n",
       "      <td>&lt;p&gt;I'm looking for a dead simple Java Library ...</td>\n",
       "      <td>Java SFTP Transfer Library</td>\n",
       "      <td>1</td>\n",
       "      <td>i'm looking for a dead simple java library to ...</td>\n",
       "      <td>java sftp transfer library</td>\n",
       "    </tr>\n",
       "    <tr>\n",
       "      <th>6</th>\n",
       "      <td>27955</td>\n",
       "      <td>&lt;p&gt;Having two MySql databases with same struct...</td>\n",
       "      <td>How to Merge two Mysql Databases with same str...</td>\n",
       "      <td>1</td>\n",
       "      <td>having two mysql databases with same structure...</td>\n",
       "      <td>how to merge two mysql databases with same str...</td>\n",
       "    </tr>\n",
       "    <tr>\n",
       "      <th>7</th>\n",
       "      <td>55001</td>\n",
       "      <td>&lt;p&gt;Hi I have 3 soap requests. \\nSay.\\nReq1 \\nR...</td>\n",
       "      <td>How can I pipeline multiple soap requests usin...</td>\n",
       "      <td>0</td>\n",
       "      <td>hi i have 3 soap requests . say . req1 req2 re...</td>\n",
       "      <td>how can i pipeline multiple soap requests usin...</td>\n",
       "    </tr>\n",
       "    <tr>\n",
       "      <th>8</th>\n",
       "      <td>50875</td>\n",
       "      <td>&lt;p&gt;Consider the following entity-relationship ...</td>\n",
       "      <td>Mapping many-to-many relationship with attribu...</td>\n",
       "      <td>0</td>\n",
       "      <td>consider the following entity - relationship d...</td>\n",
       "      <td>mapping many - to - many relationship with att...</td>\n",
       "    </tr>\n",
       "    <tr>\n",
       "      <th>9</th>\n",
       "      <td>47755</td>\n",
       "      <td>&lt;p&gt;I tried to make a program to get the amount...</td>\n",
       "      <td>C++ do while loop</td>\n",
       "      <td>1</td>\n",
       "      <td>i tried to make a program to get the amount af...</td>\n",
       "      <td>c ++ do while loop</td>\n",
       "    </tr>\n",
       "  </tbody>\n",
       "</table>\n",
       "</div>"
      ],
      "text/plain": [
       "      id                                               Body  \\\n",
       "0  33226  <p>Hi I'm new to <code>Ruby on Rails</code>. I...   \n",
       "1  64804  <p>I know that StringBuffer class is synchroni...   \n",
       "2  39763  <p>I have a search engine on PHP that have ind...   \n",
       "3  51270  <p>Is there any way to get ICY metadata from s...   \n",
       "4   9698  <p>For my website I want to have divs out of t...   \n",
       "5   5948  <p>I'm looking for a dead simple Java Library ...   \n",
       "6  27955  <p>Having two MySql databases with same struct...   \n",
       "7  55001  <p>Hi I have 3 soap requests. \\nSay.\\nReq1 \\nR...   \n",
       "8  50875  <p>Consider the following entity-relationship ...   \n",
       "9  47755  <p>I tried to make a program to get the amount...   \n",
       "\n",
       "                                               Title  label  \\\n",
       "0                 RUBY: most common number for Users      1   \n",
       "1  What exactly does it mean when they say that S...      0   \n",
       "2    Scan a webpage and get the video embed url only      1   \n",
       "3                   ICY metadata support with ffmpeg      0   \n",
       "4  Use jQuery or Javascript to move elements into...      1   \n",
       "5                         Java SFTP Transfer Library      1   \n",
       "6  How to Merge two Mysql Databases with same str...      1   \n",
       "7  How can I pipeline multiple soap requests usin...      0   \n",
       "8  Mapping many-to-many relationship with attribu...      0   \n",
       "9                                  C++ do while loop      1   \n",
       "\n",
       "                                      Body_processed  \\\n",
       "0  hi i'm new to ruby on rails . i created users ...   \n",
       "1  i know that stringbuffer class is synchronized...   \n",
       "2  i have a search engine on php that have indexe...   \n",
       "3  is there any way to get icy metadata from shou...   \n",
       "4  for my website i want to have divs out of the ...   \n",
       "5  i'm looking for a dead simple java library to ...   \n",
       "6  having two mysql databases with same structure...   \n",
       "7  hi i have 3 soap requests . say . req1 req2 re...   \n",
       "8  consider the following entity - relationship d...   \n",
       "9  i tried to make a program to get the amount af...   \n",
       "\n",
       "                                     Title_processed  \n",
       "0                ruby : most common number for users  \n",
       "1  what exactly does it mean when they say that s...  \n",
       "2    scan a webpage and get the video embed url only  \n",
       "3                   icy metadata support with ffmpeg  \n",
       "4  use jquery or javascript to move elements into...  \n",
       "5                         java sftp transfer library  \n",
       "6  how to merge two mysql databases with same str...  \n",
       "7  how can i pipeline multiple soap requests usin...  \n",
       "8  mapping many - to - many relationship with att...  \n",
       "9                                 c ++ do while loop  "
      ]
     },
     "execution_count": 85,
     "metadata": {},
     "output_type": "execute_result"
    }
   ],
   "source": [
    "# drop Nan's\n",
    "df = df.dropna()\n",
    "df.shape\n",
    "\n",
    "# drop duplicates\n",
    "df = df.drop_duplicates(subset=['Body', 'Title', 'label', 'Body_processed', 'Title_processed'], keep=False)\n",
    "df.shape\n",
    "\n",
    "df.head(10)"
   ]
  },
  {
   "cell_type": "markdown",
   "metadata": {},
   "source": [
    "#### Let's confirm balanced data"
   ]
  },
  {
   "cell_type": "code",
   "execution_count": 86,
   "metadata": {},
   "outputs": [
    {
     "name": "stdout",
     "output_type": "stream",
     "text": [
      "label\n",
      "0    49998\n",
      "1    49879\n",
      "dtype: int64\n"
     ]
    },
    {
     "data": {
      "image/png": "[encoded data removed]",
      "text/plain": [
       "<Figure size 432x288 with 1 Axes>"
      ]
     },
     "metadata": {},
     "output_type": "display_data"
    }
   ],
   "source": [
    "pd.value_counts(df['label']).plot.bar().set_title('label distribution')\n",
    "print(df.groupby(['label']).size())"
   ]
  },
  {
   "cell_type": "markdown",
   "metadata": {},
   "source": [
    "## Tokenize the raw data\n",
    "#### We need to convert our text data into integers so that we can use them in our model\n",
    "Let's convert our input and label data into lists so they can be used in the keras tokenizer\n",
    "\n",
    "We choose to use the 'Body_processed' as input for it's more robust description"
   ]
  },
  {
   "cell_type": "code",
   "execution_count": 87,
   "metadata": {},
   "outputs": [
    {
     "name": "stdout",
     "output_type": "stream",
     "text": [
      "<class 'list'>\n",
      "<class 'list'>\n"
     ]
    }
   ],
   "source": [
    "# tokenize the raw data\n",
    "\n",
    "# USE EITHER TITLE OR BODY\n",
    "\n",
    "# get title_processed and labels\n",
    "texts = list(df.Body_processed)\n",
    "print(type(texts))\n",
    "\n",
    "labels = list(df.label)\n",
    "print(type(labels))"
   ]
  },
  {
   "cell_type": "markdown",
   "metadata": {},
   "source": [
    "#### Let's tokenize and see how many unique words there are in our data"
   ]
  },
  {
   "cell_type": "code",
   "execution_count": 88,
   "metadata": {},
   "outputs": [
    {
     "name": "stdout",
     "output_type": "stream",
     "text": [
      "Found 366678 unique tokens.\n"
     ]
    }
   ],
   "source": [
    "maxlen = 200 # Cuts off title text after 20 words\n",
    "max_words = 20000 # considers only the top 10000 words in the dataset\n",
    "\n",
    "tokenizer = Tokenizer(num_words=max_words)\n",
    "tokenizer.fit_on_texts(texts)\n",
    "sequences = tokenizer.texts_to_sequences(texts)\n",
    "\n",
    "word_index = tokenizer.word_index\n",
    "print(\"Found %s unique tokens.\" % len(word_index))"
   ]
  },
  {
   "cell_type": "markdown",
   "metadata": {},
   "source": [
    "We found 366,678 unique tokens in our body data.\n",
    "\n",
    "This seems like alot. According to Oxford dictionaries there only 171,476 words in the english language.\n",
    "\n",
    "Let's acknowledge that a 'token' is a group of characters and that our dataset includes domain specific and technical words which may not be common in the english language. (i.e. Drupal, AWS, C++)\n",
    "\n",
    "Let's acknowledge this fact and move forward with our analysis"
   ]
  },
  {
   "cell_type": "markdown",
   "metadata": {},
   "source": [
    "#### Pad sequences so that the vectors are of even length.\n",
    "Keras prefers inputs to vectorized and all inputs to have the same length. We will pad all input sequences (body) to a lenght of 200 words. It will take the first 200 words from a body. If body is less than 200 words it will pad the vector with zeros."
   ]
  },
  {
   "cell_type": "code",
   "execution_count": 89,
   "metadata": {},
   "outputs": [
    {
     "name": "stdout",
     "output_type": "stream",
     "text": [
      "Shape of data tensor: (99877, 200) and is of type: <class 'numpy.ndarray'>\n",
      "Shape of label tensor: (99877,) and is of type: <class 'numpy.ndarray'>\n",
      "[[   0    0    0 ...  406  186  116]\n",
      " [   0    0    0 ...   29  231 1003]\n",
      " [   0    0    0 ...   26  399  130]\n",
      " ...\n",
      " [   0    0    0 ...   12   27  417]\n",
      " [3488   27  230 ...  488  538   33]\n",
      " [   0    0    0 ...  562    3  102]]\n"
     ]
    }
   ],
   "source": [
    "# pad sequences so vectors are of even length\n",
    "data = pad_sequences(sequences, maxlen=maxlen)\n",
    "labels = np.asarray(labels)\n",
    "print(\"Shape of data tensor:\", data.shape, \"and is of type:\", type(data))\n",
    "print(\"Shape of label tensor:\", labels.shape, \"and is of type:\", type(labels))\n",
    "print(data)"
   ]
  },
  {
   "cell_type": "markdown",
   "metadata": {},
   "source": [
    "#### Split data into training, validation and test set\n",
    "We have a validation set for hyperparameter tuning and a held out test set to evaluate our model.\n",
    "\n",
    "There are a number of possible configurations but we decided on 40/40/20 train/val/test split"
   ]
  },
  {
   "cell_type": "code",
   "execution_count": 90,
   "metadata": {},
   "outputs": [],
   "source": [
    "# First shuffle the data\n",
    "indices = np.arange(data.shape[0])\n",
    "np.random.shuffle(indices)\n",
    "data = data[indices]\n",
    "labels = labels[indices]"
   ]
  },
  {
   "cell_type": "code",
   "execution_count": 91,
   "metadata": {},
   "outputs": [
    {
     "name": "stdout",
     "output_type": "stream",
     "text": [
      "Shape of x_train tensor: (40000, 200) and is of type: <class 'numpy.ndarray'>\n",
      "Shape of y_train tensor: (40000,) and is of type: <class 'numpy.ndarray'>\n",
      "Shape of x_val tensor: (40000, 200) and is of type: <class 'numpy.ndarray'>\n",
      "Shape of y_val tensor: (40000,) and is of type: <class 'numpy.ndarray'>\n",
      "Shape of x_test tensor: (19877, 200) and is of type: <class 'numpy.ndarray'>\n",
      "Shape of y_test tensor: (19877,) and is of type: <class 'numpy.ndarray'>\n"
     ]
    }
   ],
   "source": [
    "# split data\n",
    "\n",
    "training_samples = 40000 # trains on 40000 samples\n",
    "validation_samples = 40000 # validates on 40000 samples\n",
    "\n",
    "x_train = data[:training_samples]\n",
    "y_train = labels[:training_samples]\n",
    "x_val = data[training_samples: training_samples + validation_samples]\n",
    "y_val = labels[training_samples: training_samples + validation_samples]\n",
    "x_test = data[training_samples + validation_samples:]\n",
    "y_test = labels[training_samples + validation_samples:]\n",
    "\n",
    "print(\"Shape of x_train tensor:\", x_train.shape, \"and is of type:\", type(x_train))\n",
    "print(\"Shape of y_train tensor:\", y_train.shape, \"and is of type:\", type(y_train))\n",
    "print(\"Shape of x_val tensor:\", x_val.shape, \"and is of type:\", type(x_val))\n",
    "print(\"Shape of y_val tensor:\", y_val.shape, \"and is of type:\", type(y_val))\n",
    "print(\"Shape of x_test tensor:\", x_test.shape, \"and is of type:\", type(x_test))\n",
    "print(\"Shape of y_test tensor:\", y_test.shape, \"and is of type:\", type(y_test))"
   ]
  },
  {
   "cell_type": "markdown",
   "metadata": {},
   "source": [
    "##### Ok, now are data is prepared for modeling\n",
    "\n",
    "## 2. Model\n",
    "\n",
    "\n",
    "### Embedding\n",
    "In an embedding, words are represented by dense vectors where a vector represents the projection of the word into a continuous vector space. Whereas the vectors obtained through one-hot encoding are binary, sparse (mostly made of zeros), and very high-dimensional (same dimensionality as the number of words in the vocabulary), word embeddings are low-dimensional floating-point vectors (that is, dense vectors, as opposed to sparse vectors)\n",
    "\n",
    "Keras has an embedding layer that can be used for neural networds on text data. It requires the input data to be integer encoded (which we did in the tokenizer step). The embedding layer is initialized with random weights and will learn an embedding for all of the words in our training set. There are also pretrained word embeddings (Word2Vec and GloVe).\n",
    "\n",
    "In Keras, if you wish to connect a Dense layer directly to an embedding layer, you must first flatten the 2D output matrix to a 1D vector using the Flatten layer.\n",
    "\n",
    "<img src=\"http://gpucomputing.shef.ac.uk/static/img/intro_dl_sharc_dgx1/embedding.png\">\n",
    "\n",
    "###  2.a Model - Embedding layer with a classifier"
   ]
  },
  {
   "cell_type": "code",
   "execution_count": 92,
   "metadata": {},
   "outputs": [
    {
     "name": "stdout",
     "output_type": "stream",
     "text": [
      "_________________________________________________________________\n",
      "Layer (type)                 Output Shape              Param #   \n",
      "=================================================================\n",
      "embedding_14 (Embedding)     (None, 200, 32)           640000    \n",
      "_________________________________________________________________\n",
      "flatten_6 (Flatten)          (None, 6400)              0         \n",
      "_________________________________________________________________\n",
      "dense_19 (Dense)             (None, 32)                204832    \n",
      "_________________________________________________________________\n",
      "dense_20 (Dense)             (None, 1)                 33        \n",
      "=================================================================\n",
      "Total params: 844,865\n",
      "Trainable params: 844,865\n",
      "Non-trainable params: 0\n",
      "_________________________________________________________________\n",
      "Train on 40000 samples, validate on 40000 samples\n",
      "Epoch 1/10\n",
      "40000/40000 [==============================] - 12s 303us/step - loss: 0.4977 - acc: 0.7597 - val_loss: 0.4637 - val_acc: 0.7792\n",
      "Epoch 2/10\n",
      "40000/40000 [==============================] - 13s 328us/step - loss: 0.3862 - acc: 0.8250 - val_loss: 0.4862 - val_acc: 0.7678\n",
      "Epoch 3/10\n",
      "40000/40000 [==============================] - 11s 283us/step - loss: 0.2473 - acc: 0.8991 - val_loss: 0.6219 - val_acc: 0.7398\n",
      "Epoch 4/10\n",
      "40000/40000 [==============================] - 11s 270us/step - loss: 0.1202 - acc: 0.9568 - val_loss: 0.8388 - val_acc: 0.7274\n",
      "Epoch 5/10\n",
      "40000/40000 [==============================] - 11s 276us/step - loss: 0.0508 - acc: 0.9833 - val_loss: 1.1972 - val_acc: 0.7071\n",
      "Epoch 6/10\n",
      "40000/40000 [==============================] - 11s 283us/step - loss: 0.0198 - acc: 0.9940 - val_loss: 1.4932 - val_acc: 0.7133\n",
      "Epoch 7/10\n",
      "40000/40000 [==============================] - 11s 272us/step - loss: 0.0073 - acc: 0.9979 - val_loss: 1.8356 - val_acc: 0.6926\n",
      "Epoch 8/10\n",
      "40000/40000 [==============================] - 11s 270us/step - loss: 0.0025 - acc: 0.9994 - val_loss: 2.1384 - val_acc: 0.6924\n",
      "Epoch 9/10\n",
      "40000/40000 [==============================] - 11s 271us/step - loss: 8.4710e-04 - acc: 0.9998 - val_loss: 2.3698 - val_acc: 0.6916\n",
      "Epoch 10/10\n",
      "40000/40000 [==============================] - 11s 278us/step - loss: 3.2930e-04 - acc: 1.0000 - val_loss: 2.6146 - val_acc: 0.6806\n"
     ]
    }
   ],
   "source": [
    "maxlen = 200 # Cuts off text after X words\n",
    "max_words = 20000 # considers only the top X words in the dataset\n",
    "\n",
    "model = Sequential()\n",
    "model.add(Embedding(max_words, embedding_dim, input_length=maxlen))\n",
    "model.add(Flatten()) # flattens 3D tensor of embeddings into a 2D tensor of shape (samples, maxlen*embedding_dim)\n",
    "model.add(Dense(32, activation='relu'))\n",
    "model.add(Dense(1, activation='sigmoid'))\n",
    "model.summary()\n",
    "\n",
    "model.compile(optimizer='rmsprop',\n",
    "             loss='binary_crossentropy',\n",
    "             metrics=['acc'])\n",
    "\n",
    "history = model.fit(x_train, y_train,\n",
    "                   epochs = 10,\n",
    "                   batch_size=64,\n",
    "                   validation_data=(x_val, y_val))"
   ]
  },
  {
   "cell_type": "markdown",
   "metadata": {},
   "source": [
    "#### Score our model on the test set"
   ]
  },
  {
   "cell_type": "code",
   "execution_count": 93,
   "metadata": {},
   "outputs": [
    {
     "name": "stdout",
     "output_type": "stream",
     "text": [
      "Test set accuracy: 67.65%\n"
     ]
    }
   ],
   "source": [
    "# Final evaluation of the model on test set\n",
    "scores = model.evaluate(x_test, y_test, verbose=0)\n",
    "print(\"Test set accuracy: %.2f%%\" % (scores[1]*100))"
   ]
  },
  {
   "cell_type": "markdown",
   "metadata": {},
   "source": [
    "#### Plot the model's performance over time"
   ]
  },
  {
   "cell_type": "code",
   "execution_count": 94,
   "metadata": {},
   "outputs": [
    {
     "data": {
      "image/png": "[encoded data removed]",
      "text/plain": [
       "<Figure size 432x288 with 1 Axes>"
      ]
     },
     "metadata": {},
     "output_type": "display_data"
    },
    {
     "data": {
      "image/png": "[encoded data removed]",
      "text/plain": [
       "<Figure size 432x288 with 1 Axes>"
      ]
     },
     "metadata": {},
     "output_type": "display_data"
    }
   ],
   "source": [
    "acc = history.history['acc']\n",
    "val_acc = history.history['val_acc']\n",
    "loss = history.history['loss']\n",
    "val_loss = history.history['val_loss']\n",
    "\n",
    "epochs = range(1, len(acc) + 1)\n",
    "\n",
    "plt.plot(epochs, acc, 'bo', label='Training acc')\n",
    "plt.plot(epochs, val_acc, 'b', label='Validation acc')\n",
    "plt.title('Training and validation accuracy')\n",
    "plt.legend()\n",
    "\n",
    "plt.figure()\n",
    "\n",
    "plt.plot(epochs, loss, 'bo', label='Training loss')\n",
    "plt.plot(epochs, val_loss, 'b', label='Validation loss')\n",
    "plt.title('Training and validation loss')\n",
    "plt.legend()\n",
    "\n",
    "plt.show()"
   ]
  },
  {
   "cell_type": "markdown",
   "metadata": {},
   "source": [
    "#### Wow, looks like we rapidly start over fitting. Let's look how we can address that later.\n",
    "\n",
    "### 2.b Model - Simple RNN\n",
    "\n",
    "#### Recurrent Neural Networks (RNN)\n",
    "A characterstic of the previous model is that it has no memory. Each input show to the model is processed independently, with no state kept in between inputs. In order to process a sequence of data points, you have to show the entire sequence to the network at once. This is what we did in the previous model, and entire body was transformed into a single large vector and processed in one go. These networks are called feedforward networks.\n",
    "\n",
    "A recurrent neural network processes sequences by iterating through the sequence elements and maintaining a state containing information relative to what it has seen so far. In effect, and RNN is a type of neural network that has in internal loop. The state of the RNN is reset between processsing two different, independent sequences (such as two body texts), so you still consider one sequence a single data point: a single input to the network. What changes is that this data point is no longer processed in a single step; rather, the network internally loops over sequences of elements."
   ]
  },
  {
   "cell_type": "code",
   "execution_count": 95,
   "metadata": {},
   "outputs": [
    {
     "name": "stdout",
     "output_type": "stream",
     "text": [
      "_________________________________________________________________\n",
      "Layer (type)                 Output Shape              Param #   \n",
      "=================================================================\n",
      "embedding_15 (Embedding)     (None, 200, 32)           640000    \n",
      "_________________________________________________________________\n",
      "simple_rnn_3 (SimpleRNN)     (None, 32)                2080      \n",
      "_________________________________________________________________\n",
      "dense_21 (Dense)             (None, 1)                 33        \n",
      "=================================================================\n",
      "Total params: 642,113\n",
      "Trainable params: 642,113\n",
      "Non-trainable params: 0\n",
      "_________________________________________________________________\n",
      "Train on 40000 samples, validate on 40000 samples\n",
      "Epoch 1/10\n",
      "40000/40000 [==============================] - 109s 3ms/step - loss: 0.5754 - acc: 0.7093 - val_loss: 0.5077 - val_acc: 0.7625\n",
      "Epoch 2/10\n",
      "40000/40000 [==============================] - 107s 3ms/step - loss: 0.4914 - acc: 0.7752 - val_loss: 0.5400 - val_acc: 0.7529\n",
      "Epoch 3/10\n",
      "40000/40000 [==============================] - 108s 3ms/step - loss: 0.4611 - acc: 0.7924 - val_loss: 0.4971 - val_acc: 0.7742\n",
      "Epoch 4/10\n",
      "40000/40000 [==============================] - 109s 3ms/step - loss: 0.4428 - acc: 0.8035 - val_loss: 0.5262 - val_acc: 0.7699\n",
      "Epoch 5/10\n",
      "40000/40000 [==============================] - 111s 3ms/step - loss: 0.4270 - acc: 0.8158 - val_loss: 0.5132 - val_acc: 0.7628\n",
      "Epoch 6/10\n",
      "40000/40000 [==============================] - 111s 3ms/step - loss: 0.4232 - acc: 0.8163 - val_loss: 0.5293 - val_acc: 0.7545\n",
      "Epoch 7/10\n",
      "40000/40000 [==============================] - 402s 10ms/step - loss: 0.4010 - acc: 0.8255 - val_loss: 0.5361 - val_acc: 0.7374\n",
      "Epoch 8/10\n",
      "40000/40000 [==============================] - 109s 3ms/step - loss: 0.3698 - acc: 0.8405 - val_loss: 0.5826 - val_acc: 0.7312\n",
      "Epoch 9/10\n",
      "40000/40000 [==============================] - 109s 3ms/step - loss: 0.3590 - acc: 0.8474 - val_loss: 0.5830 - val_acc: 0.7398\n",
      "Epoch 10/10\n",
      "40000/40000 [==============================] - 110s 3ms/step - loss: 0.3261 - acc: 0.8632 - val_loss: 0.6173 - val_acc: 0.7349\n"
     ]
    }
   ],
   "source": [
    "maxlen = 200 # Cuts off title after X words\n",
    "max_words = 20000 # considers only the top X words in the dataset\n",
    "\n",
    "model = Sequential()\n",
    "model.add(Embedding(max_words, 32, input_length=maxlen))\n",
    "model.add(SimpleRNN(32))\n",
    "model.add(Dense(1, activation='sigmoid'))\n",
    "model.summary()\n",
    "\n",
    "model.compile(optimizer='rmsprop',\n",
    "             loss='binary_crossentropy',\n",
    "             metrics=['acc'])\n",
    "\n",
    "history = model.fit(x_train, y_train,\n",
    "                   epochs = 10,\n",
    "                   batch_size=32,\n",
    "                   validation_data=(x_val, y_val))"
   ]
  },
  {
   "cell_type": "markdown",
   "metadata": {},
   "source": [
    "#### Score our model on the test set"
   ]
  },
  {
   "cell_type": "code",
   "execution_count": 96,
   "metadata": {},
   "outputs": [
    {
     "name": "stdout",
     "output_type": "stream",
     "text": [
      "Test set accuracy: 73.13%\n"
     ]
    }
   ],
   "source": [
    "# Final evaluation of the model on test set\n",
    "scores = model.evaluate(x_test, y_test, verbose=0)\n",
    "print(\"Test set accuracy: %.2f%%\" % (scores[1]*100))"
   ]
  },
  {
   "cell_type": "markdown",
   "metadata": {},
   "source": [
    "#### We made good imporvement on our test set. 65% -> 73% accuracy. Seems like this reccurent method might have some promise for our use case.\n",
    "\n",
    "#### Plot the model's performance over time"
   ]
  },
  {
   "cell_type": "code",
   "execution_count": 97,
   "metadata": {},
   "outputs": [
    {
     "data": {
      "image/png": "[encoded data removed]",
      "text/plain": [
       "<Figure size 432x288 with 1 Axes>"
      ]
     },
     "metadata": {},
     "output_type": "display_data"
    },
    {
     "data": {
      "image/png": "[encoded data removed]",
      "text/plain": [
       "<Figure size 432x288 with 1 Axes>"
      ]
     },
     "metadata": {},
     "output_type": "display_data"
    }
   ],
   "source": [
    "acc = history.history['acc']\n",
    "val_acc = history.history['val_acc']\n",
    "loss = history.history['loss']\n",
    "val_loss = history.history['val_loss']\n",
    "\n",
    "epochs = range(1, len(acc) + 1)\n",
    "\n",
    "plt.plot(epochs, acc, 'bo', label='Training acc')\n",
    "plt.plot(epochs, val_acc, 'b', label='Validation acc')\n",
    "plt.title('Training and validation accuracy')\n",
    "plt.legend()\n",
    "\n",
    "plt.figure()\n",
    "\n",
    "plt.plot(epochs, loss, 'bo', label='Training loss')\n",
    "plt.plot(epochs, val_loss, 'b', label='Validation loss')\n",
    "plt.title('Training and validation loss')\n",
    "plt.legend()\n",
    "\n",
    "plt.show()"
   ]
  },
  {
   "cell_type": "markdown",
   "metadata": {},
   "source": [
    "#### Well, looks like we're still over fitting. Not as bad, but still over fitting. Don't worry, we'll address that soon.\n",
    "\n",
    "### 2.c Model - LSTM - Long Short Term Memory\n",
    "\n",
    "#### LSTM\n",
    "The RNN showed good improvement over our first model but SimpleRNN isn't the only recurrent layer available in Keras. In fact, SimpleRNN has a major issue: although it should theoretically be able to retain at time *t* information about inputs seen many timesteps before, in practice such long-term dependencies are impossible to learn. This is due to the vanishing gradient problem, an effect that is similar to what is observed with non-recurrent networks (feedforwad networks) that are many layers deep: as you keep adding layers to a network, the network eventually becomes untrainable. The LSTM layers are designed to solve this problem.\n",
    "\n",
    "Long Short-Term Memory (LSTM) is a variant fo the SimpleRNN layer we used in the previous model, though LSTM adds a way to carry information across many timesteps. In short, what an LSTM does is save information for later, thus preventing older signals from gradually vanishing during processing. Essentially, it allows past information to be reinjected at a later time, thus fighting the vanishing-gradient problem.\n",
    "\n",
    "<img src=\"https://image.slidesharecdn.com/mdrnn-yandexmoscowcv-160427182305/95/multidimensional-rnn-7-638.jpg?cb=1461781453\">\n",
    "\n",
    "<img src=\"https://image.slidesharecdn.com/mdrnn-yandexmoscowcv-160427182305/95/multidimensional-rnn-11-638.jpg?cb=1461781453\">"
   ]
  },
  {
   "cell_type": "code",
   "execution_count": 98,
   "metadata": {},
   "outputs": [
    {
     "name": "stdout",
     "output_type": "stream",
     "text": [
      "_________________________________________________________________\n",
      "Layer (type)                 Output Shape              Param #   \n",
      "=================================================================\n",
      "embedding_16 (Embedding)     (None, None, 32)          640000    \n",
      "_________________________________________________________________\n",
      "lstm_7 (LSTM)                (None, 100)               53200     \n",
      "_________________________________________________________________\n",
      "dense_22 (Dense)             (None, 1)                 101       \n",
      "=================================================================\n",
      "Total params: 693,301\n",
      "Trainable params: 693,301\n",
      "Non-trainable params: 0\n",
      "_________________________________________________________________\n",
      "Train on 40000 samples, validate on 40000 samples\n",
      "Epoch 1/10\n",
      "40000/40000 [==============================] - 182s 5ms/step - loss: 0.5317 - acc: 0.7449 - val_loss: 0.4903 - val_acc: 0.7727\n",
      "Epoch 2/10\n",
      "40000/40000 [==============================] - 177s 4ms/step - loss: 0.4550 - acc: 0.7977 - val_loss: 0.6035 - val_acc: 0.7416\n",
      "Epoch 3/10\n",
      "40000/40000 [==============================] - 177s 4ms/step - loss: 0.4237 - acc: 0.8123 - val_loss: 0.4769 - val_acc: 0.7703\n",
      "Epoch 4/10\n",
      "40000/40000 [==============================] - 181s 5ms/step - loss: 0.4010 - acc: 0.8244 - val_loss: 0.4810 - val_acc: 0.7812\n",
      "Epoch 5/10\n",
      "40000/40000 [==============================] - 271s 7ms/step - loss: 0.3828 - acc: 0.8323 - val_loss: 0.4810 - val_acc: 0.7830\n",
      "Epoch 6/10\n",
      "40000/40000 [==============================] - 219s 5ms/step - loss: 0.3626 - acc: 0.8421 - val_loss: 0.5053 - val_acc: 0.7655\n",
      "Epoch 7/10\n",
      "40000/40000 [==============================] - 197s 5ms/step - loss: 0.3434 - acc: 0.8526 - val_loss: 0.5046 - val_acc: 0.7615\n",
      "Epoch 8/10\n",
      "40000/40000 [==============================] - 188s 5ms/step - loss: 0.3245 - acc: 0.8620 - val_loss: 0.5393 - val_acc: 0.7626\n",
      "Epoch 9/10\n",
      "40000/40000 [==============================] - 189s 5ms/step - loss: 0.3095 - acc: 0.8684 - val_loss: 0.5267 - val_acc: 0.7672\n",
      "Epoch 10/10\n",
      "40000/40000 [==============================] - 183s 5ms/step - loss: 0.2909 - acc: 0.8784 - val_loss: 0.6100 - val_acc: 0.7698\n"
     ]
    }
   ],
   "source": [
    "maxlen = 200 # Cuts off title after X words\n",
    "max_words = 20000 # considers only the top X words in the dataset\n",
    "\n",
    "model = Sequential()\n",
    "model.add(Embedding(max_words, 32))\n",
    "model.add(LSTM(100))\n",
    "model.add(Dense(1, activation='sigmoid'))\n",
    "model.summary()\n",
    "\n",
    "model.compile(optimizer='rmsprop',\n",
    "             loss='binary_crossentropy',\n",
    "             metrics=['acc'])\n",
    "\n",
    "history = model.fit(x_train, y_train,\n",
    "                   epochs = 10,\n",
    "                   batch_size=128,\n",
    "                   validation_data=(x_val, y_val))"
   ]
  },
  {
   "cell_type": "markdown",
   "metadata": {},
   "source": [
    "#### Score our model on the test set"
   ]
  },
  {
   "cell_type": "code",
   "execution_count": 100,
   "metadata": {},
   "outputs": [
    {
     "name": "stdout",
     "output_type": "stream",
     "text": [
      "Test set accuracy: 76.63%\n"
     ]
    }
   ],
   "source": [
    "# Final evaluation of the model on test set\n",
    "scores = model.evaluate(x_test, y_test, verbose=0)\n",
    "print(\"Test set accuracy: %.2f%%\" % (scores[1]*100))"
   ]
  },
  {
   "cell_type": "markdown",
   "metadata": {},
   "source": [
    "#### We made continued progress on the test set. 73% -> 76%. The LSTM is an improvement over the SimpleRNN.\n",
    "\n",
    "#### Plot the model's performance over time"
   ]
  },
  {
   "cell_type": "code",
   "execution_count": 99,
   "metadata": {},
   "outputs": [
    {
     "data": {
      "image/png": "[encoded data removed]",
      "text/plain": [
       "<Figure size 432x288 with 1 Axes>"
      ]
     },
     "metadata": {},
     "output_type": "display_data"
    },
    {
     "data": {
      "image/png": "[encoded data removed]",
      "text/plain": [
       "<Figure size 432x288 with 1 Axes>"
      ]
     },
     "metadata": {},
     "output_type": "display_data"
    }
   ],
   "source": [
    "acc = history.history['acc']\n",
    "val_acc = history.history['val_acc']\n",
    "loss = history.history['loss']\n",
    "val_loss = history.history['val_loss']\n",
    "\n",
    "epochs = range(1, len(acc) + 1)\n",
    "\n",
    "plt.plot(epochs, acc, 'bo', label='Training acc')\n",
    "plt.plot(epochs, val_acc, 'b', label='Validation acc')\n",
    "plt.title('Training and validation accuracy')\n",
    "plt.legend()\n",
    "\n",
    "plt.figure()\n",
    "\n",
    "plt.plot(epochs, loss, 'bo', label='Training loss')\n",
    "plt.plot(epochs, val_loss, 'b', label='Validation loss')\n",
    "plt.title('Training and validation loss')\n",
    "plt.legend()\n",
    "\n",
    "plt.show()"
   ]
  },
  {
   "cell_type": "markdown",
   "metadata": {},
   "source": [
    "#### Initially, our model started was not overfitting. Up until the 5th epoch we were progressing nicely. Let's see if we can systematically address our overfitting issue.\n",
    "\n",
    "### 2.d Model - LSTM with Dropout\n",
    "\n",
    "#### Dropout\n",
    "It's fairly evident from the previous training and validation curves that the models are overfitting: the training and validation losses start to diverge considerably after a few epochs. A classid technique to fight this phenomenon is dropout. Dropout randomly zeros out input units of a layer in order to break happenstance correlations in the training data that the layer is exposed to.\n",
    "\n",
    "#### Recurrent dropout\n",
    "To correctly apply dropout in RNNs isn not a trivial question. It has long been known that applying dropout before a recurrent layer hinders learning rather than helping with regularization. In 2015, Yarin Gal determined that the proper way to use dropout with a recurrent network is that the same dropout mask (the same pattern of dropped units) should be applied at every timestep, instead of a dropout mask that varies randomly from timestep to timestep. Using the same dropout mask at every timestep allows the network to properly propogate its learning error through time; a temporally random dropout mask would disrupt this error signal and be harmful to the learning process.\n",
    "\n",
    "<img src=\"https://cdn-images-1.medium.com/max/800/1*IrdJ5PghD9YoOyVAQ73MJw.gif\">"
   ]
  },
  {
   "cell_type": "code",
   "execution_count": 101,
   "metadata": {
    "scrolled": true
   },
   "outputs": [
    {
     "name": "stdout",
     "output_type": "stream",
     "text": [
      "_________________________________________________________________\n",
      "Layer (type)                 Output Shape              Param #   \n",
      "=================================================================\n",
      "embedding_17 (Embedding)     (None, None, 32)          640000    \n",
      "_________________________________________________________________\n",
      "lstm_8 (LSTM)                (None, 100)               53200     \n",
      "_________________________________________________________________\n",
      "dense_23 (Dense)             (None, 1)                 101       \n",
      "=================================================================\n",
      "Total params: 693,301\n",
      "Trainable params: 693,301\n",
      "Non-trainable params: 0\n",
      "_________________________________________________________________\n",
      "Train on 40000 samples, validate on 40000 samples\n",
      "Epoch 1/10\n",
      "40000/40000 [==============================] - 204s 5ms/step - loss: 0.5505 - acc: 0.7329 - val_loss: 0.5162 - val_acc: 0.7688\n",
      "Epoch 2/10\n",
      "40000/40000 [==============================] - 229s 6ms/step - loss: 0.4796 - acc: 0.7853 - val_loss: 0.5043 - val_acc: 0.7611\n",
      "Epoch 3/10\n",
      "40000/40000 [==============================] - 220s 6ms/step - loss: 0.4565 - acc: 0.7995 - val_loss: 0.4899 - val_acc: 0.7780\n",
      "Epoch 4/10\n",
      "40000/40000 [==============================] - 226s 6ms/step - loss: 0.4366 - acc: 0.8104 - val_loss: 0.5354 - val_acc: 0.7416\n",
      "Epoch 5/10\n",
      "40000/40000 [==============================] - 217s 5ms/step - loss: 0.4222 - acc: 0.8160 - val_loss: 0.4738 - val_acc: 0.7797\n",
      "Epoch 6/10\n",
      "40000/40000 [==============================] - 216s 5ms/step - loss: 0.4120 - acc: 0.8202 - val_loss: 0.5095 - val_acc: 0.7740\n",
      "Epoch 7/10\n",
      "40000/40000 [==============================] - 204s 5ms/step - loss: 0.4005 - acc: 0.8260 - val_loss: 0.4742 - val_acc: 0.7782\n",
      "Epoch 8/10\n",
      "40000/40000 [==============================] - 215s 5ms/step - loss: 0.3881 - acc: 0.8316 - val_loss: 0.4837 - val_acc: 0.7758\n",
      "Epoch 9/10\n",
      "40000/40000 [==============================] - 210s 5ms/step - loss: 0.3809 - acc: 0.8331 - val_loss: 0.4951 - val_acc: 0.7767\n",
      "Epoch 10/10\n",
      "40000/40000 [==============================] - 215s 5ms/step - loss: 0.3677 - acc: 0.8402 - val_loss: 0.4860 - val_acc: 0.7710\n"
     ]
    }
   ],
   "source": [
    "maxlen = 200 # Cuts off after X words\n",
    "max_words = 20000 # considers only the top X words in the dataset\n",
    "\n",
    "model = Sequential()\n",
    "model.add(Embedding(max_words, 32))\n",
    "model.add(LSTM(100, dropout=0.2, recurrent_dropout=0.2))\n",
    "model.add(Dense(1, activation='sigmoid'))\n",
    "model.summary()\n",
    "\n",
    "model.compile(optimizer='rmsprop',\n",
    "             loss='binary_crossentropy',\n",
    "             metrics=['acc'])\n",
    "\n",
    "history = model.fit(x_train, y_train,\n",
    "                   epochs = 10,\n",
    "                   batch_size=128,\n",
    "                   validation_data=(x_val, y_val))"
   ]
  },
  {
   "cell_type": "markdown",
   "metadata": {},
   "source": [
    "#### Score our model on the test set"
   ]
  },
  {
   "cell_type": "code",
   "execution_count": 102,
   "metadata": {},
   "outputs": [
    {
     "name": "stdout",
     "output_type": "stream",
     "text": [
      "Test set accuracy: 76.81%\n"
     ]
    }
   ],
   "source": [
    "# Final evaluation of the model on test set\n",
    "scores = model.evaluate(x_test, y_test, verbose=0)\n",
    "print(\"Test set accuracy: %.2f%%\" % (scores[1]*100))"
   ]
  },
  {
   "cell_type": "markdown",
   "metadata": {},
   "source": [
    "#### Minor improvement in accuracy over LSTM without dropout.\n",
    "\n",
    "#### Plot the model's performance over time"
   ]
  },
  {
   "cell_type": "code",
   "execution_count": 103,
   "metadata": {},
   "outputs": [
    {
     "data": {
      "image/png": "[encoded data removed]",
      "text/plain": [
       "<Figure size 432x288 with 1 Axes>"
      ]
     },
     "metadata": {},
     "output_type": "display_data"
    },
    {
     "data": {
      "image/png": "[encoded data removed]",
      "text/plain": [
       "<Figure size 432x288 with 1 Axes>"
      ]
     },
     "metadata": {},
     "output_type": "display_data"
    }
   ],
   "source": [
    "acc = history.history['acc']\n",
    "val_acc = history.history['val_acc']\n",
    "loss = history.history['loss']\n",
    "val_loss = history.history['val_loss']\n",
    "\n",
    "epochs = range(1, len(acc) + 1)\n",
    "\n",
    "plt.plot(epochs, acc, 'bo', label='Training acc')\n",
    "plt.plot(epochs, val_acc, 'b', label='Validation acc')\n",
    "plt.title('Training and validation accuracy')\n",
    "plt.legend()\n",
    "\n",
    "plt.figure()\n",
    "\n",
    "plt.plot(epochs, loss, 'bo', label='Training loss')\n",
    "plt.plot(epochs, val_loss, 'b', label='Validation loss')\n",
    "plt.title('Training and validation loss')\n",
    "plt.legend()\n",
    "\n",
    "plt.show()"
   ]
  },
  {
   "cell_type": "markdown",
   "metadata": {},
   "source": [
    "#### Though our validation loss did trend downwards during the training. This signals the model was not overfitting. The validation accuracy was fairly steady but started to tail off towards the end."
   ]
  },
  {
   "cell_type": "markdown",
   "metadata": {},
   "source": [
    "## 3. Summary\n",
    "\n",
    "In our steps today we build a sentiment classifier for off-topic questions on StackOverflow. We started out with essentially some text and their corresponding labels. We took our text and converted it to vectors of integers with each word being its own integer. We then fed that vector into an embedding layer in Keras which in turn outputted a more dense vector of our word representations.\n",
    "\n",
    "We proceeded to developo a series of models utilizing our word embeddings layer and progressively improved as we went along. For all our models we used the first 200 words from our body text and used only the top 20,000 words (out of a potential ~366,000). Since we are doing a binary classification problem, we used binary_crossentropy as our loss function for all models.\n",
    "\n",
    "In our first model we built a feedforward network and simply fed the embedding layer into a classifier and we received OK results. Better than random, at least. Though we did see considerable overfitting. In our second model we added a sequencing aspect by using a recurrent network. Our accuracy improved but we still saw some overfitting. In our third model we used an RNN variant called Long Short-Term Memory (LSTM). LSTM has the benefit of addressing of the vanishing gradient problem which can plaugue simple RNNs. Essentially an LSTM will save information for later that can be reinjected at a later time. The LSTM made more progress on our accuracy and improved our overfitting. The final model was and LSTM with dropout. This method systematically addresses the overfitting issue by randomly zeroing out input units of a layer in order to break happenstance correlations in the training data. This method marginally improved our accuracy over plain LSTM but did address our overfitting issue."
   ]
  },
  {
   "cell_type": "markdown",
   "metadata": {},
   "source": [
    "## 4. Analysis\n",
    "\n",
    "1. **How accurate is your method? What metrics besides accuracy might be valuable to examine for solving this problem?**\n",
    "    - We might consider a confusion matrix and focus on maximizing precision. We want to maximize precision because we care mostly about minimizing False positives. False positives should be minimized because we don’t want to prematurely close a post that has a valid reason to not be closed. If we let in a few False negatives it isn’t that big a deal because the posts can still be closed manually and the platform is not worse for wear. If, on the other hand, we were building a classifier to detect cancer we would care deeply about reducing False negatives and would instead be focused on maximizing recall.\n",
    "<img src=\"https://cdn-images-1.medium.com/max/600/1*KhlD7Js9leo0B0zfsIfAIA.png\">\n",
    "2. **The dataset we’ve given you is balanced such that there’s an even split of closed posts to accepted posts. Should this influence the metrics you measure?**\n",
    "    - Since our data set is balanced along the target variable class, accuracy is a good metric. Accuracy should not be used as a measure when the target variable classes in the data are a majority of one class.    \n",
    "<br>   \n",
    "3. **How generalizable is your method? If you were given a different (disjoint) random sample of posts with the same labeling scheme, would you expect it to perform well? Why or why not? Do you have evidence for your reasoning?**\n",
    "    - Our model generalize well because we use both the validation and test sets to check as we progress. We use the validation set during our training to check for generalization. And we use our held out test set to check how the model performs on unseen data. We also took systematics steps (dropout) to address generalization during the model fitting stage.\n",
    "\n",
    "<br>\n",
    "\n",
    "4. **How well would this method work on an entirely new close reason, e.g. duplicate or spam posts?**\n",
    "    - 'Duplicate' reason was included in the problem description so we should expect the model to perform well on the duplicate use case. If a new close reason is created we would not expect the model to perform well. The model was trained on a specific set of close reasons, so any new reason, not included in the training would be outside of the models capability. This is an active area of research and I recommend checkout this paper discussing the hidden technical debt incurred by machine learning systems. https://papers.nips.cc/paper/5656-hidden-technical-debt-in-machine-learning-systems.pdf\n",
    "\n",
    "<br>\n",
    "\n",
    "5. **Are there edge cases that your method tends to do worse with? Better? E.g., How well does it handle really long posts or titles?**\n",
    "    - Since we only looked at the first 200 words of a body text we could expect very long post to not perform as well.\n",
    "\n",
    "<br>\n",
    "\n",
    "6. **If you got to work on this again, what would you do differently (if anything)?**\n",
    "    - I'd do more hyperparameter tuning (number of layers, batch size, number of words analyzed, etc). I'd also consider using a pre-trained word embedding, such as Word2Vec and GloVe.\n",
    "    \n",
    "<br>\n",
    "\n",
    "7. **Are there any concerns you have with how the dataset was constructed?**\n",
    "    - Your model is as biased as the data you put into it. For instance, there could be some bias in the people that manually closed these posts and hence created this data. We know developer can have very strong opinions on languages, frameworks, methods, etc., so they could be biasing our training data. Also, we don't know the full machinations of the closing process. Their could be unknown details in the process that is impacting how the data is generated."
   ]
  },
  {
   "cell_type": "markdown",
   "metadata": {},
   "source": [
    "## 5. Thoughts and Further Work\n",
    "\n",
    "1. T-SNE visualization from our word embeddings\n",
    "2. Given the size of our dataset, TFIDF with logistic regression could be an approach for this use case\n",
    "3. More engineering on the raw data\n",
    "4. Use pre-trained word embeddings (i.e. Word2Vec and GloVe)\n",
    "5. Word cloud visualization\n",
    "6. Creatively using both title and body. In my analysis body provided the most signal. Perhaps there is a way to combine both title and body.\n",
    "7. Pass scores that fall within a specific threshold (i.e. 40-60%) to human review. There we might find instances where our model could be improved with some human scrutiny."
   ]
  }
 ],
 "metadata": {
  "kernelspec": {
   "display_name": "Python 3",
   "language": "python",
   "name": "python3"
  },
  "language_info": {
   "codemirror_mode": {
    "name": "ipython",
    "version": 3
   },
   "file_extension": ".py",
   "mimetype": "text/x-python",
   "name": "python",
   "nbconvert_exporter": "python",
   "pygments_lexer": "ipython3",
   "version": "3.6.5"
  }
 },
 "nbformat": 4,
 "nbformat_minor": 2
}
